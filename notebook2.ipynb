{
 "cells": [
  {
   "cell_type": "code",
   "execution_count": 4,
   "metadata": {},
   "outputs": [],
   "source": [
    "import pymongo\n",
    "import pandas as pd"
   ]
  },
  {
   "cell_type": "code",
   "execution_count": null,
   "metadata": {},
   "outputs": [],
   "source": [
    "# Configuración da conexión á base de datos MongoDB\n",
    "client = pymongo.MongoClient(\"mongodb://localhost:27017/\")\n",
    "db = client[\"bicicoruña\"]\n",
    "collection = db[\"Estaciones\"]"
   ]
  },
  {
   "cell_type": "code",
   "execution_count": 9,
   "metadata": {},
   "outputs": [
    {
     "data": {
      "text/plain": [
       "<pymongo.synchronous.cursor.Cursor at 0x7f82c8fe7890>"
      ]
     },
     "execution_count": 9,
     "metadata": {},
     "output_type": "execute_result"
    }
   ],
   "source": [
    "# Función para ler os datos de MongoDB\n",
    "def leer_datos_mongodb():\n",
    "    documentos = collection.find()\n",
    "    return documentos\n",
    "\n",
    "leer_datos_mongodb()"
   ]
  },
  {
   "cell_type": "code",
   "execution_count": 10,
   "metadata": {},
   "outputs": [],
   "source": [
    "def exportar_datos(datos):\n",
    "    # Crear un DataFrame de pandas cos datos\n",
    "    df = pd.DataFrame(datos)\n",
    "    \n",
    "    # Filtrar os campos que se desexan exportar\n",
    "    campos_desejados = [\"_id\", \"name\", \"timestamp\", \"free_bikes\", \"empty_slots\", \"uid\", \"last_updated\", \"slots\", \"normal_bikes\", \"ebikes\"]\n",
    "    df_filtrado = df[campos_desejados]\n",
    "    \n",
    "    # Exportar a CSV\n",
    "    df_filtrado.to_csv(\"datos_exportados.csv\", index=False)\n",
    "    print(\"Datos exportados a CSV.\")\n",
    "    \n",
    "    # Exportar a Parquet\n",
    "    df_filtrado.to_parquet(\"datos_exportados.parquet\", index=False)\n",
    "    print(\"Datos exportados a Parquet.\")"
   ]
  }
 ],
 "metadata": {
  "kernelspec": {
   "display_name": "Trabajo_SBD",
   "language": "python",
   "name": "python3"
  },
  "language_info": {
   "codemirror_mode": {
    "name": "ipython",
    "version": 3
   },
   "file_extension": ".py",
   "mimetype": "text/x-python",
   "name": "python",
   "nbconvert_exporter": "python",
   "pygments_lexer": "ipython3",
   "version": "3.13.1"
  }
 },
 "nbformat": 4,
 "nbformat_minor": 2
}
